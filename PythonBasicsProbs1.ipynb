{
  "nbformat": 4,
  "nbformat_minor": 0,
  "metadata": {
    "colab": {
      "provenance": []
    },
    "kernelspec": {
      "name": "python3",
      "display_name": "Python 3"
    },
    "language_info": {
      "name": "python"
    }
  },
  "cells": [
    {
      "cell_type": "markdown",
      "source": [
        "# Prob1. Permutation"
      ],
      "metadata": {
        "id": "xT3NAhTKwS2M"
      }
    },
    {
      "cell_type": "markdown",
      "source": [
        "Given the parameter 'nums' you have to make the list of all the possible permutations of 'nums', where k = 2."
      ],
      "metadata": {
        "id": "7QfTRcX7wtOk"
      }
    },
    {
      "cell_type": "code",
      "source": [
        "\n",
        "\n",
        "def Permutation(nums):\n",
        "#pseudocode\n",
        "  #make the variable for the first and second number pair\n",
        "  for -# first number\n",
        "\n",
        "\n",
        "    for -# second number - we can't pick the same number for both numbers in the pair\n",
        "      #append the pair into the variable\n",
        "      \n",
        "  return -#the variable"
      ],
      "metadata": {
        "id": "Pqg0hZJPyVyc"
      },
      "execution_count": null,
      "outputs": []
    },
    {
      "cell_type": "code",
      "source": [
        "def Permutation(nums):\n",
        "  wombat = [] \n",
        "  for i in nums:\n",
        "\n",
        "    for j in nums:\n",
        "      if i == j:\n",
        "        pass\n",
        "      else:\n",
        "        wombat.append((i,j))\n",
        "  return wombat\n",
        "\n",
        "Permutation([1,2,3,4,5,6,7,8,9])\n",
        "\n"
      ],
      "metadata": {
        "colab": {
          "base_uri": "https://localhost:8080/"
        },
        "id": "5kjBgBQVwk6z",
        "outputId": "a783320b-252c-4376-b582-4d98cfcc8c87"
      },
      "execution_count": null,
      "outputs": [
        {
          "output_type": "execute_result",
          "data": {
            "text/plain": [
              "[(1, 2),\n",
              " (1, 3),\n",
              " (1, 4),\n",
              " (1, 5),\n",
              " (1, 6),\n",
              " (1, 7),\n",
              " (1, 8),\n",
              " (1, 9),\n",
              " (2, 1),\n",
              " (2, 3),\n",
              " (2, 4),\n",
              " (2, 5),\n",
              " (2, 6),\n",
              " (2, 7),\n",
              " (2, 8),\n",
              " (2, 9),\n",
              " (3, 1),\n",
              " (3, 2),\n",
              " (3, 4),\n",
              " (3, 5),\n",
              " (3, 6),\n",
              " (3, 7),\n",
              " (3, 8),\n",
              " (3, 9),\n",
              " (4, 1),\n",
              " (4, 2),\n",
              " (4, 3),\n",
              " (4, 5),\n",
              " (4, 6),\n",
              " (4, 7),\n",
              " (4, 8),\n",
              " (4, 9),\n",
              " (5, 1),\n",
              " (5, 2),\n",
              " (5, 3),\n",
              " (5, 4),\n",
              " (5, 6),\n",
              " (5, 7),\n",
              " (5, 8),\n",
              " (5, 9),\n",
              " (6, 1),\n",
              " (6, 2),\n",
              " (6, 3),\n",
              " (6, 4),\n",
              " (6, 5),\n",
              " (6, 7),\n",
              " (6, 8),\n",
              " (6, 9),\n",
              " (7, 1),\n",
              " (7, 2),\n",
              " (7, 3),\n",
              " (7, 4),\n",
              " (7, 5),\n",
              " (7, 6),\n",
              " (7, 8),\n",
              " (7, 9),\n",
              " (8, 1),\n",
              " (8, 2),\n",
              " (8, 3),\n",
              " (8, 4),\n",
              " (8, 5),\n",
              " (8, 6),\n",
              " (8, 7),\n",
              " (8, 9),\n",
              " (9, 1),\n",
              " (9, 2),\n",
              " (9, 3),\n",
              " (9, 4),\n",
              " (9, 5),\n",
              " (9, 6),\n",
              " (9, 7),\n",
              " (9, 8)]"
            ]
          },
          "metadata": {},
          "execution_count": 3
        }
      ]
    },
    {
      "cell_type": "markdown",
      "source": [
        "# Prob.2 Combination \n",
        "Goven the parameter 'nums', you have to make the list for all the possible combinations of 'nums', where r = 2."
      ],
      "metadata": {
        "id": "f7VykjJ241ed"
      }
    },
    {
      "cell_type": "code",
      "source": [
        "#Pseudocode\n",
        "def Combination(nums):\n",
        "  #make the variable for the first number\n",
        "  for -#first number:\n",
        "    for -#second number -- it can't be first number and anything below first number:\n",
        "      #append the pair into the variable\n",
        "  #return the variable\n",
        "  "
      ],
      "metadata": {
        "id": "Nk_Pdq095HZR"
      },
      "execution_count": null,
      "outputs": []
    },
    {
      "cell_type": "code",
      "source": [
        "def Combunation(nums):\n",
        "  squirtle = []\n",
        "  for pikachu in nums:\n",
        "    for charizard in nums:\n",
        "      if charizard <= pikachu:\n",
        "        pass\n",
        "      else:\n",
        "        squirtle.append((pikachu,charizard))\n",
        "  return squirtle\n",
        "Combunation([1,2,3,4,5,6,7,8,9])"
      ],
      "metadata": {
        "colab": {
          "base_uri": "https://localhost:8080/"
        },
        "id": "s69QFuuQ5JK1",
        "outputId": "e234caa6-aee6-43c3-e75a-9254af0a69e2"
      },
      "execution_count": null,
      "outputs": [
        {
          "output_type": "execute_result",
          "data": {
            "text/plain": [
              "[(1, 2),\n",
              " (1, 3),\n",
              " (1, 4),\n",
              " (1, 5),\n",
              " (1, 6),\n",
              " (1, 7),\n",
              " (1, 8),\n",
              " (1, 9),\n",
              " (2, 3),\n",
              " (2, 4),\n",
              " (2, 5),\n",
              " (2, 6),\n",
              " (2, 7),\n",
              " (2, 8),\n",
              " (2, 9),\n",
              " (3, 4),\n",
              " (3, 5),\n",
              " (3, 6),\n",
              " (3, 7),\n",
              " (3, 8),\n",
              " (3, 9),\n",
              " (4, 5),\n",
              " (4, 6),\n",
              " (4, 7),\n",
              " (4, 8),\n",
              " (4, 9),\n",
              " (5, 6),\n",
              " (5, 7),\n",
              " (5, 8),\n",
              " (5, 9),\n",
              " (6, 7),\n",
              " (6, 8),\n",
              " (6, 9),\n",
              " (7, 8),\n",
              " (7, 9),\n",
              " (8, 9)]"
            ]
          },
          "metadata": {},
          "execution_count": 7
        }
      ]
    },
    {
      "cell_type": "code",
      "source": [],
      "metadata": {
        "id": "q7J2zCvnCaUc"
      },
      "execution_count": null,
      "outputs": []
    },
    {
      "cell_type": "markdown",
      "source": [
        "# Prob.3 Permutation for the given R"
      ],
      "metadata": {
        "id": "K2jDUqD89o4s"
      }
    },
    {
      "cell_type": "markdown",
      "source": [
        "Given the parameter 'nums' and 'r' you have to make the list of all the possible permutations of 'nums'."
      ],
      "metadata": {
        "id": "C3iO8v7G-A06"
      }
    },
    {
      "cell_type": "code",
      "source": [
        "def completepermutation(nums,r):\n",
        "  while "
      ],
      "metadata": {
        "id": "2NGxVNaf-fki"
      },
      "execution_count": null,
      "outputs": []
    },
    {
      "cell_type": "markdown",
      "source": [
        "# Prob4/ Filtering"
      ],
      "metadata": {
        "id": "JRoEYXaxCVZY"
      }
    },
    {
      "cell_type": "markdown",
      "source": [
        "given the dictionary {'1' : 'Justin', '2' : 'Jun', '3' : 'mattey', '4' : 'Divine', '5' : 'artem'}: You have to create a function whixh swaps each key and value"
      ],
      "metadata": {
        "id": "DDpInbfNCbWm"
      }
    },
    {
      "cell_type": "code",
      "source": [
        "anything = {1 : 'Justin', 2 : 'Jun', 3 : 'mattey', 4 : 'Divine', 5 : 'artem'}\n",
        "#pseudocode\n",
        "nothing = {}\n",
        "def Filter(dictionary):\n",
        "  for i in dictionary:\n",
        "    nothing.update({dictionary[i]:i})\n",
        "\n",
        "    dictionary[i] = i\n",
        "  print(nothing) \n",
        "Filter(anything)\n",
        "\n",
        "\n",
        "  "
      ],
      "metadata": {
        "colab": {
          "base_uri": "https://localhost:8080/"
        },
        "id": "gxxjx3DXDFI5",
        "outputId": "1040ed6d-55fe-4360-a2f2-36764054be29"
      },
      "execution_count": 13,
      "outputs": [
        {
          "output_type": "stream",
          "name": "stdout",
          "text": [
            "{'Justin': 1, 'Jun': 2, 'mattey': 3, 'Divine': 4, 'artem': 5}\n"
          ]
        }
      ]
    },
    {
      "cell_type": "code",
      "source": [],
      "metadata": {
        "id": "ekD5xbQ-DFPZ"
      },
      "execution_count": null,
      "outputs": []
    },
    {
      "cell_type": "markdown",
      "source": [
        "\n",
        "# HW 1.\n",
        "\n",
        "Given the list [ [1, 2, 4, 9], [10, 3, 7, 4], [34, 21, 12, 15, 2], [29, 1, 4, 727, 2, 90, 1], [6, 1, 3] ], create the function which returns the modified list where the element of the original list whose length is odd-numbered is shortened into the average of it while the one whose length is even-numbered is shortened into the median value of it.\n",
        "\n",
        "\n",
        "Thus, the output should be like:\n",
        "```\n",
        "[ a, b, c, d, e ] <--- where a : a median value of [1, 2, 4, 9], c : an average value of [34, 21, 12, 15, 2], ... \n",
        "```"
      ],
      "metadata": {
        "id": "0kv-DDpjEBT4"
      }
    },
    {
      "cell_type": "code",
      "source": [
        "hey = [[1, 2, 4, 9], [10, 3, 7, 4], [34, 21, 12, 15, 2], [29, 1, 4, 727, 2, 90, 1], [6, 1, 3] ]\n",
        "justimouth = []\n",
        "def lol(lists):\n",
        "  for i in hey:\n",
        "    \n",
        "    if len(i) % 2 == 0:\n",
        "      i.sort()\n",
        "      median1 = len(i)//2\n",
        "      median2 = len(i)//2 - 1\n",
        "      median = (median1 + median2)/2\n",
        "      justimouth.append(median)\n",
        "    else: \n",
        "      average = sum(i)/len(i)\n",
        "      justimouth.append(average)\n",
        "  print(justimouth)\n",
        "lol(hey)"
      ],
      "metadata": {
        "colab": {
          "base_uri": "https://localhost:8080/"
        },
        "id": "h2XLVTbI6PYa",
        "outputId": "6771894b-b7a9-4f63-d638-2a536a03c5f2"
      },
      "execution_count": 18,
      "outputs": [
        {
          "output_type": "stream",
          "name": "stdout",
          "text": [
            "[1.5, 1.5, 16.8, 122.0, 3.3333333333333335]\n"
          ]
        }
      ]
    }
  ]
}